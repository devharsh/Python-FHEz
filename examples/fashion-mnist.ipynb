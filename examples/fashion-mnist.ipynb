{
 "cells": [
  {
   "cell_type": "markdown",
   "id": "fdc69b41-51f3-48f9-89f6-933bd5310157",
   "metadata": {},
   "source": [
    "Fully Homomorphically Encrypted Fashion-MNIST CNN Example\n",
    "=========================================================\n",
    "\n",
    "- This example will download Fashion-MNIST (a drop in replacement for MNIST)\n",
    "- Prepare Fashion-MNIST\n",
    "- Train a very basic CNN on Fashion-MNIST in plaintext\n",
    "- Infer using the testing set using both plaintexts and cyphertexts for comparison\n",
    "\n",
    ".. warning:\n",
    "\n",
    "    The encrypted forward pass is VERY RAM HUNGRY! Keep a close eye on your RAM usage in case it exceeds your machines capabilities. In some scenarios it may be desirable to have a SWAP partition on the fastest storage you have avaliable. We are working on getting the RAM usage down! FHE on anything is very space and compute intensive, but we do have inefficiencies we could minimise too."
   ]
  },
  {
   "cell_type": "markdown",
   "id": "8c548872-5f91-49b9-b2c4-06cfcc0fa8fe",
   "metadata": {},
   "source": [
    "# Basic Setup"
   ]
  },
  {
   "cell_type": "code",
   "execution_count": 1,
   "id": "365eada6-e664-4e31-a44a-0b6df5e80c63",
   "metadata": {},
   "outputs": [
    {
     "name": "stdout",
     "output_type": "stream",
     "text": [
      "Requirement already satisfied: pyvis in /usr/local/lib/python3.9/site-packages/pyvis-0.2.1-py3.9.egg (0.2.1)\n",
      "Requirement already satisfied: seaborn in /usr/local/Cellar/jupyterlab/3.3.2/libexec/lib/python3.9/site-packages (0.11.2)\n",
      "Requirement already satisfied: jinja2>=2.9.6 in /usr/local/Cellar/jupyterlab/3.3.2/libexec/lib/python3.9/site-packages (from pyvis) (3.0.3)\n",
      "Requirement already satisfied: networkx>=1.11 in /usr/local/lib/python3.9/site-packages (from pyvis) (2.8.4)\n",
      "Requirement already satisfied: ipython>=5.3.0 in /usr/local/Cellar/jupyterlab/3.3.2/libexec/lib/python3.9/site-packages (from pyvis) (8.1.1)\n",
      "Requirement already satisfied: jsonpickle>=1.4.1 in /usr/local/lib/python3.9/site-packages (from pyvis) (1.5.1)\n",
      "Requirement already satisfied: scipy>=1.0 in /usr/local/lib/python3.9/site-packages (from seaborn) (1.8.1)\n",
      "Requirement already satisfied: numpy>=1.15 in /Users/devharsh/Library/Python/3.9/lib/python/site-packages (from seaborn) (1.21.2)\n",
      "Requirement already satisfied: pandas>=0.23 in /usr/local/lib/python3.9/site-packages (from seaborn) (1.4.2)\n",
      "Requirement already satisfied: matplotlib>=2.2 in /usr/local/lib/python3.9/site-packages (from seaborn) (3.4.3)\n",
      "Requirement already satisfied: decorator in /usr/local/Cellar/jupyterlab/3.3.2/libexec/lib/python3.9/site-packages (from ipython>=5.3.0->pyvis) (5.1.1)\n",
      "Requirement already satisfied: traitlets>=5 in /usr/local/Cellar/jupyterlab/3.3.2/libexec/lib/python3.9/site-packages (from ipython>=5.3.0->pyvis) (5.1.1)\n",
      "Requirement already satisfied: matplotlib-inline in /usr/local/Cellar/jupyterlab/3.3.2/libexec/lib/python3.9/site-packages (from ipython>=5.3.0->pyvis) (0.1.3)\n",
      "Requirement already satisfied: appnope in /usr/local/Cellar/jupyterlab/3.3.2/libexec/lib/python3.9/site-packages (from ipython>=5.3.0->pyvis) (0.1.2)\n",
      "Requirement already satisfied: pickleshare in /usr/local/Cellar/jupyterlab/3.3.2/libexec/lib/python3.9/site-packages (from ipython>=5.3.0->pyvis) (0.7.5)\n",
      "Requirement already satisfied: pexpect>4.3 in /usr/local/Cellar/jupyterlab/3.3.2/libexec/lib/python3.9/site-packages (from ipython>=5.3.0->pyvis) (4.8.0)\n",
      "Requirement already satisfied: jedi>=0.16 in /usr/local/Cellar/jupyterlab/3.3.2/libexec/lib/python3.9/site-packages (from ipython>=5.3.0->pyvis) (0.18.1)\n",
      "Requirement already satisfied: setuptools>=18.5 in /usr/local/Cellar/jupyterlab/3.3.2/libexec/lib/python3.9/site-packages (from ipython>=5.3.0->pyvis) (60.5.0)\n",
      "Requirement already satisfied: stack-data in /usr/local/Cellar/jupyterlab/3.3.2/libexec/lib/python3.9/site-packages (from ipython>=5.3.0->pyvis) (0.2.0)\n",
      "Requirement already satisfied: prompt-toolkit!=3.0.0,!=3.0.1,<3.1.0,>=2.0.0 in /usr/local/Cellar/jupyterlab/3.3.2/libexec/lib/python3.9/site-packages (from ipython>=5.3.0->pyvis) (3.0.28)\n",
      "Requirement already satisfied: pygments>=2.4.0 in /usr/local/Cellar/jupyterlab/3.3.2/libexec/lib/python3.9/site-packages (from ipython>=5.3.0->pyvis) (2.11.2)\n",
      "Requirement already satisfied: backcall in /usr/local/Cellar/jupyterlab/3.3.2/libexec/lib/python3.9/site-packages (from ipython>=5.3.0->pyvis) (0.2.0)\n",
      "Requirement already satisfied: MarkupSafe>=2.0 in /usr/local/Cellar/jupyterlab/3.3.2/libexec/lib/python3.9/site-packages (from jinja2>=2.9.6->pyvis) (2.1.1)\n",
      "Requirement already satisfied: pyparsing>=2.2.1 in /usr/local/Cellar/jupyterlab/3.3.2/libexec/lib/python3.9/site-packages (from matplotlib>=2.2->seaborn) (3.0.7)\n",
      "Requirement already satisfied: kiwisolver>=1.0.1 in /usr/local/lib/python3.9/site-packages (from matplotlib>=2.2->seaborn) (1.3.2)\n",
      "Requirement already satisfied: cycler>=0.10 in /usr/local/lib/python3.9/site-packages (from matplotlib>=2.2->seaborn) (0.10.0)\n",
      "Requirement already satisfied: pillow>=6.2.0 in /usr/local/lib/python3.9/site-packages (from matplotlib>=2.2->seaborn) (9.2.0)\n",
      "Requirement already satisfied: python-dateutil>=2.7 in /usr/local/Cellar/jupyterlab/3.3.2/libexec/lib/python3.9/site-packages (from matplotlib>=2.2->seaborn) (2.8.2)\n",
      "Requirement already satisfied: pytz>=2020.1 in /usr/local/Cellar/jupyterlab/3.3.2/libexec/lib/python3.9/site-packages (from pandas>=0.23->seaborn) (2022.1)\n",
      "Requirement already satisfied: six in /usr/local/Cellar/six/1.16.0_2/lib/python3.9/site-packages (from cycler>=0.10->matplotlib>=2.2->seaborn) (1.16.0)\n",
      "Requirement already satisfied: parso<0.9.0,>=0.8.0 in /usr/local/Cellar/jupyterlab/3.3.2/libexec/lib/python3.9/site-packages (from jedi>=0.16->ipython>=5.3.0->pyvis) (0.8.3)\n",
      "Requirement already satisfied: ptyprocess>=0.5 in /usr/local/Cellar/jupyterlab/3.3.2/libexec/lib/python3.9/site-packages (from pexpect>4.3->ipython>=5.3.0->pyvis) (0.7.0)\n",
      "Requirement already satisfied: wcwidth in /usr/local/Cellar/jupyterlab/3.3.2/libexec/lib/python3.9/site-packages (from prompt-toolkit!=3.0.0,!=3.0.1,<3.1.0,>=2.0.0->ipython>=5.3.0->pyvis) (0.2.5)\n",
      "Requirement already satisfied: executing in /usr/local/Cellar/jupyterlab/3.3.2/libexec/lib/python3.9/site-packages (from stack-data->ipython>=5.3.0->pyvis) (0.8.3)\n",
      "Requirement already satisfied: pure-eval in /usr/local/Cellar/jupyterlab/3.3.2/libexec/lib/python3.9/site-packages (from stack-data->ipython>=5.3.0->pyvis) (0.2.2)\n",
      "Requirement already satisfied: asttokens in /usr/local/Cellar/jupyterlab/3.3.2/libexec/lib/python3.9/site-packages (from stack-data->ipython>=5.3.0->pyvis) (2.0.5)\n"
     ]
    }
   ],
   "source": [
    "import sys\n",
    "!{sys.executable} -m pip install pyvis seaborn"
   ]
  },
  {
   "cell_type": "code",
   "execution_count": 2,
   "id": "7eabf22f-ba77-470b-a139-f1bad38c26e0",
   "metadata": {},
   "outputs": [],
   "source": [
    "import os\n",
    "import requests\n",
    "import zipfile\n",
    "import logging\n",
    "import time\n",
    "import datetime\n",
    "import copy\n",
    "import seaborn as sns\n",
    "import pandas as pd\n",
    "logging.basicConfig(level=logging.ERROR)\n",
    "sns.set_theme(style=\"whitegrid\")\n",
    "# logging.basicConfig(level=logging.DEBUG)"
   ]
  },
  {
   "cell_type": "markdown",
   "id": "fd763b1c-07b4-40c6-a2b2-c5fc926d2fd0",
   "metadata": {},
   "source": [
    "# Display our pre-existing findings\n",
    "\n",
    "(Skip this section if you have deleted our existing results and are thus starting from scratch)\n",
    "\n",
    "In this section we will output some graphs to show our existing findings in fashion_MNIST_results.csv. This Jupyter notebook will append more results when run to this CSV file so you can also use this to show your new results when you run this file."
   ]
  },
  {
   "cell_type": "code",
   "execution_count": 3,
   "id": "ba348caa-8a1c-4400-85dc-0beaa69154ef",
   "metadata": {},
   "outputs": [
    {
     "data": {
      "text/html": [
       "<div>\n",
       "<style scoped>\n",
       "    .dataframe tbody tr th:only-of-type {\n",
       "        vertical-align: middle;\n",
       "    }\n",
       "\n",
       "    .dataframe tbody tr th {\n",
       "        vertical-align: top;\n",
       "    }\n",
       "\n",
       "    .dataframe thead th {\n",
       "        text-align: right;\n",
       "    }\n",
       "</style>\n",
       "<table border=\"1\" class=\"dataframe\">\n",
       "  <thead>\n",
       "    <tr style=\"text-align: right;\">\n",
       "      <th></th>\n",
       "      <th>accuracy</th>\n",
       "      <th>training_time</th>\n",
       "      <th>plain_inference_time</th>\n",
       "      <th>datetime</th>\n",
       "      <th>y_hat_sample</th>\n",
       "      <th>y_sample</th>\n",
       "      <th>inference_size</th>\n",
       "      <th>activation</th>\n",
       "      <th>time_taken</th>\n",
       "      <th>is_plaintext</th>\n",
       "      <th>is_cyphertext</th>\n",
       "      <th>session</th>\n",
       "    </tr>\n",
       "  </thead>\n",
       "  <tbody>\n",
       "    <tr>\n",
       "      <th>0</th>\n",
       "      <td>0.6511</td>\n",
       "      <td>437.602509</td>\n",
       "      <td>35.014159</td>\n",
       "      <td>2021-10-12 10:48:08.505291</td>\n",
       "      <td>[4, 4, 2, 1, 7, 7, 8, 4, 4, 1, 7, 7, 7, 8, 1, ...</td>\n",
       "      <td>[4, 4, 2, 1, 5, 7, 8, 4, 4, 1, 5, 7, 7, 8, 1, ...</td>\n",
       "      <td>10000</td>\n",
       "      <td>ReLU</td>\n",
       "      <td>NaN</td>\n",
       "      <td>NaN</td>\n",
       "      <td>NaN</td>\n",
       "      <td>NaN</td>\n",
       "    </tr>\n",
       "    <tr>\n",
       "      <th>1</th>\n",
       "      <td>0.5576</td>\n",
       "      <td>434.175892</td>\n",
       "      <td>34.966154</td>\n",
       "      <td>2021-10-12 12:59:45.888788</td>\n",
       "      <td>[4, 4, 4, 1, 7, 7, 8, 3, 4, 1, 7, 7, 7, 8, 1, ...</td>\n",
       "      <td>[4, 4, 2, 1, 5, 7, 8, 4, 4, 1, 5, 7, 7, 8, 1, ...</td>\n",
       "      <td>10000</td>\n",
       "      <td>ReLU</td>\n",
       "      <td>NaN</td>\n",
       "      <td>NaN</td>\n",
       "      <td>NaN</td>\n",
       "      <td>NaN</td>\n",
       "    </tr>\n",
       "    <tr>\n",
       "      <th>2</th>\n",
       "      <td>0.2318</td>\n",
       "      <td>434.045423</td>\n",
       "      <td>34.940857</td>\n",
       "      <td>2021-10-12 13:08:06.098759</td>\n",
       "      <td>[1, 5, 5, 1, 5, 7, 5, 5, 1, 1, 5, 5, 7, 5, 1, ...</td>\n",
       "      <td>[4, 4, 2, 1, 5, 7, 8, 4, 4, 1, 5, 7, 7, 8, 1, ...</td>\n",
       "      <td>10000</td>\n",
       "      <td>ReLU</td>\n",
       "      <td>NaN</td>\n",
       "      <td>NaN</td>\n",
       "      <td>NaN</td>\n",
       "      <td>NaN</td>\n",
       "    </tr>\n",
       "    <tr>\n",
       "      <th>3</th>\n",
       "      <td>0.6552</td>\n",
       "      <td>440.584696</td>\n",
       "      <td>34.895064</td>\n",
       "      <td>2021-10-12 13:28:06.498966</td>\n",
       "      <td>[4, 4, 2, 1, 7, 9, 8, 1, 4, 1, 7, 7, 7, 8, 1, ...</td>\n",
       "      <td>[4, 4, 2, 1, 5, 7, 8, 4, 4, 1, 5, 7, 7, 8, 1, ...</td>\n",
       "      <td>10000</td>\n",
       "      <td>ReLU</td>\n",
       "      <td>NaN</td>\n",
       "      <td>NaN</td>\n",
       "      <td>NaN</td>\n",
       "      <td>NaN</td>\n",
       "    </tr>\n",
       "    <tr>\n",
       "      <th>4</th>\n",
       "      <td>0.2605</td>\n",
       "      <td>435.607623</td>\n",
       "      <td>34.508964</td>\n",
       "      <td>2021-10-12 13:37:04.358536</td>\n",
       "      <td>[1, 1, 5, 1, 7, 7, 0, 1, 2, 1, 7, 5, 7, 5, 1, ...</td>\n",
       "      <td>[4, 4, 2, 1, 5, 7, 8, 4, 4, 1, 5, 7, 7, 8, 1, ...</td>\n",
       "      <td>10000</td>\n",
       "      <td>ReLU</td>\n",
       "      <td>NaN</td>\n",
       "      <td>NaN</td>\n",
       "      <td>NaN</td>\n",
       "      <td>NaN</td>\n",
       "    </tr>\n",
       "    <tr>\n",
       "      <th>...</th>\n",
       "      <td>...</td>\n",
       "      <td>...</td>\n",
       "      <td>...</td>\n",
       "      <td>...</td>\n",
       "      <td>...</td>\n",
       "      <td>...</td>\n",
       "      <td>...</td>\n",
       "      <td>...</td>\n",
       "      <td>...</td>\n",
       "      <td>...</td>\n",
       "      <td>...</td>\n",
       "      <td>...</td>\n",
       "    </tr>\n",
       "    <tr>\n",
       "      <th>62</th>\n",
       "      <td>0.6261</td>\n",
       "      <td>919.977976</td>\n",
       "      <td>NaN</td>\n",
       "      <td>2022-07-03 17:52:24.954812</td>\n",
       "      <td>[4, 4, 4, 1, 7, 5, 8, 4, 4, 1, 5, 7, 5, 8, 1, ...</td>\n",
       "      <td>[0, 1, 2, 2, 3, 2, 8, 6, 5, 0, 3, 4, 4, 6, 8, ...</td>\n",
       "      <td>10000</td>\n",
       "      <td>Sigmoid</td>\n",
       "      <td>75.412392</td>\n",
       "      <td>1.0</td>\n",
       "      <td>0.0</td>\n",
       "      <td>zi9TBx</td>\n",
       "    </tr>\n",
       "    <tr>\n",
       "      <th>63</th>\n",
       "      <td>0.6362</td>\n",
       "      <td>940.418993</td>\n",
       "      <td>NaN</td>\n",
       "      <td>2022-07-03 23:29:37.320797</td>\n",
       "      <td>[2, 4, 2, 3, 7, 9, 8, 4, 2, 3, 7, 7, 9, 2, 3, ...</td>\n",
       "      <td>[0, 1, 2, 2, 3, 2, 8, 6, 5, 0, 3, 4, 4, 6, 8, ...</td>\n",
       "      <td>10000</td>\n",
       "      <td>Sigmoid</td>\n",
       "      <td>74.788434</td>\n",
       "      <td>1.0</td>\n",
       "      <td>0.0</td>\n",
       "      <td>xVsp6w</td>\n",
       "    </tr>\n",
       "    <tr>\n",
       "      <th>64</th>\n",
       "      <td>0.6144</td>\n",
       "      <td>944.458827</td>\n",
       "      <td>NaN</td>\n",
       "      <td>2022-07-03 23:53:35.181248</td>\n",
       "      <td>[4, 4, 6, 1, 5, 7, 8, 4, 4, 1, 7, 7, 7, 8, 1, ...</td>\n",
       "      <td>[0, 1, 2, 2, 3, 2, 8, 6, 5, 0, 3, 4, 4, 6, 8, ...</td>\n",
       "      <td>10000</td>\n",
       "      <td>Sigmoid</td>\n",
       "      <td>81.623405</td>\n",
       "      <td>1.0</td>\n",
       "      <td>0.0</td>\n",
       "      <td>VUg5Jg</td>\n",
       "    </tr>\n",
       "    <tr>\n",
       "      <th>65</th>\n",
       "      <td>0.6434</td>\n",
       "      <td>951.831432</td>\n",
       "      <td>NaN</td>\n",
       "      <td>2022-07-04 00:17:16.822525</td>\n",
       "      <td>[4, 4, 6, 1, 7, 5, 8, 4, 4, 1, 5, 7, 5, 8, 1, ...</td>\n",
       "      <td>[0, 1, 2, 2, 3, 2, 8, 6, 5, 0, 3, 4, 4, 6, 8, ...</td>\n",
       "      <td>10000</td>\n",
       "      <td>Sigmoid</td>\n",
       "      <td>76.656483</td>\n",
       "      <td>1.0</td>\n",
       "      <td>0.0</td>\n",
       "      <td>y9h5XJ</td>\n",
       "    </tr>\n",
       "    <tr>\n",
       "      <th>66</th>\n",
       "      <td>0.6592</td>\n",
       "      <td>924.548244</td>\n",
       "      <td>NaN</td>\n",
       "      <td>2022-07-04 11:14:18.006047</td>\n",
       "      <td>[4, 4, 2, 1, 7, 5, 8, 4, 4, 1, 5, 7, 5, 8, 1, ...</td>\n",
       "      <td>[0, 1, 2, 2, 3, 2, 8, 6, 5, 0, 3, 4, 4, 6, 8, ...</td>\n",
       "      <td>10000</td>\n",
       "      <td>Sigmoid</td>\n",
       "      <td>71.150496</td>\n",
       "      <td>1.0</td>\n",
       "      <td>0.0</td>\n",
       "      <td>kWCQ9q</td>\n",
       "    </tr>\n",
       "  </tbody>\n",
       "</table>\n",
       "<p>67 rows × 12 columns</p>\n",
       "</div>"
      ],
      "text/plain": [
       "    accuracy  training_time  plain_inference_time                    datetime  \\\n",
       "0     0.6511     437.602509             35.014159  2021-10-12 10:48:08.505291   \n",
       "1     0.5576     434.175892             34.966154  2021-10-12 12:59:45.888788   \n",
       "2     0.2318     434.045423             34.940857  2021-10-12 13:08:06.098759   \n",
       "3     0.6552     440.584696             34.895064  2021-10-12 13:28:06.498966   \n",
       "4     0.2605     435.607623             34.508964  2021-10-12 13:37:04.358536   \n",
       "..       ...            ...                   ...                         ...   \n",
       "62    0.6261     919.977976                   NaN  2022-07-03 17:52:24.954812   \n",
       "63    0.6362     940.418993                   NaN  2022-07-03 23:29:37.320797   \n",
       "64    0.6144     944.458827                   NaN  2022-07-03 23:53:35.181248   \n",
       "65    0.6434     951.831432                   NaN  2022-07-04 00:17:16.822525   \n",
       "66    0.6592     924.548244                   NaN  2022-07-04 11:14:18.006047   \n",
       "\n",
       "                                         y_hat_sample  \\\n",
       "0   [4, 4, 2, 1, 7, 7, 8, 4, 4, 1, 7, 7, 7, 8, 1, ...   \n",
       "1   [4, 4, 4, 1, 7, 7, 8, 3, 4, 1, 7, 7, 7, 8, 1, ...   \n",
       "2   [1, 5, 5, 1, 5, 7, 5, 5, 1, 1, 5, 5, 7, 5, 1, ...   \n",
       "3   [4, 4, 2, 1, 7, 9, 8, 1, 4, 1, 7, 7, 7, 8, 1, ...   \n",
       "4   [1, 1, 5, 1, 7, 7, 0, 1, 2, 1, 7, 5, 7, 5, 1, ...   \n",
       "..                                                ...   \n",
       "62  [4, 4, 4, 1, 7, 5, 8, 4, 4, 1, 5, 7, 5, 8, 1, ...   \n",
       "63  [2, 4, 2, 3, 7, 9, 8, 4, 2, 3, 7, 7, 9, 2, 3, ...   \n",
       "64  [4, 4, 6, 1, 5, 7, 8, 4, 4, 1, 7, 7, 7, 8, 1, ...   \n",
       "65  [4, 4, 6, 1, 7, 5, 8, 4, 4, 1, 5, 7, 5, 8, 1, ...   \n",
       "66  [4, 4, 2, 1, 7, 5, 8, 4, 4, 1, 5, 7, 5, 8, 1, ...   \n",
       "\n",
       "                                             y_sample  inference_size  \\\n",
       "0   [4, 4, 2, 1, 5, 7, 8, 4, 4, 1, 5, 7, 7, 8, 1, ...           10000   \n",
       "1   [4, 4, 2, 1, 5, 7, 8, 4, 4, 1, 5, 7, 7, 8, 1, ...           10000   \n",
       "2   [4, 4, 2, 1, 5, 7, 8, 4, 4, 1, 5, 7, 7, 8, 1, ...           10000   \n",
       "3   [4, 4, 2, 1, 5, 7, 8, 4, 4, 1, 5, 7, 7, 8, 1, ...           10000   \n",
       "4   [4, 4, 2, 1, 5, 7, 8, 4, 4, 1, 5, 7, 7, 8, 1, ...           10000   \n",
       "..                                                ...             ...   \n",
       "62  [0, 1, 2, 2, 3, 2, 8, 6, 5, 0, 3, 4, 4, 6, 8, ...           10000   \n",
       "63  [0, 1, 2, 2, 3, 2, 8, 6, 5, 0, 3, 4, 4, 6, 8, ...           10000   \n",
       "64  [0, 1, 2, 2, 3, 2, 8, 6, 5, 0, 3, 4, 4, 6, 8, ...           10000   \n",
       "65  [0, 1, 2, 2, 3, 2, 8, 6, 5, 0, 3, 4, 4, 6, 8, ...           10000   \n",
       "66  [0, 1, 2, 2, 3, 2, 8, 6, 5, 0, 3, 4, 4, 6, 8, ...           10000   \n",
       "\n",
       "   activation  time_taken  is_plaintext  is_cyphertext session  \n",
       "0        ReLU         NaN           NaN            NaN     NaN  \n",
       "1        ReLU         NaN           NaN            NaN     NaN  \n",
       "2        ReLU         NaN           NaN            NaN     NaN  \n",
       "3        ReLU         NaN           NaN            NaN     NaN  \n",
       "4        ReLU         NaN           NaN            NaN     NaN  \n",
       "..        ...         ...           ...            ...     ...  \n",
       "62    Sigmoid   75.412392           1.0            0.0  zi9TBx  \n",
       "63    Sigmoid   74.788434           1.0            0.0  xVsp6w  \n",
       "64    Sigmoid   81.623405           1.0            0.0  VUg5Jg  \n",
       "65    Sigmoid   76.656483           1.0            0.0  y9h5XJ  \n",
       "66    Sigmoid   71.150496           1.0            0.0  kWCQ9q  \n",
       "\n",
       "[67 rows x 12 columns]"
      ]
     },
     "execution_count": 3,
     "metadata": {},
     "output_type": "execute_result"
    }
   ],
   "source": [
    "csv_path = \"fashion_MNIST_results.csv\"\n",
    "all_results = pd.read_csv(csv_path, index_col=False)\n",
    "all_results"
   ]
  },
  {
   "cell_type": "markdown",
   "id": "ecd0df29-9372-462f-aa56-e6f598d6141c",
   "metadata": {},
   "source": [
    "A few minor fixes to the table from older versions"
   ]
  },
  {
   "cell_type": "code",
   "execution_count": 4,
   "id": "d2d1ec6a-43fa-4951-bf0b-09aef909d659",
   "metadata": {},
   "outputs": [
    {
     "data": {
      "text/html": [
       "<div>\n",
       "<style scoped>\n",
       "    .dataframe tbody tr th:only-of-type {\n",
       "        vertical-align: middle;\n",
       "    }\n",
       "\n",
       "    .dataframe tbody tr th {\n",
       "        vertical-align: top;\n",
       "    }\n",
       "\n",
       "    .dataframe thead th {\n",
       "        text-align: right;\n",
       "    }\n",
       "</style>\n",
       "<table border=\"1\" class=\"dataframe\">\n",
       "  <thead>\n",
       "    <tr style=\"text-align: right;\">\n",
       "      <th></th>\n",
       "      <th>accuracy</th>\n",
       "      <th>training_time</th>\n",
       "      <th>datetime</th>\n",
       "      <th>y_hat_sample</th>\n",
       "      <th>y_sample</th>\n",
       "      <th>inference_size</th>\n",
       "      <th>activation</th>\n",
       "      <th>time_taken</th>\n",
       "      <th>is_plaintext</th>\n",
       "      <th>is_cyphertext</th>\n",
       "      <th>session</th>\n",
       "      <th>dtype</th>\n",
       "    </tr>\n",
       "  </thead>\n",
       "  <tbody>\n",
       "    <tr>\n",
       "      <th>0</th>\n",
       "      <td>0.6511</td>\n",
       "      <td>437.602509</td>\n",
       "      <td>2021-10-12 10:48:08.505291</td>\n",
       "      <td>[4, 4, 2, 1, 7, 7, 8, 4, 4, 1, 7, 7, 7, 8, 1, ...</td>\n",
       "      <td>[4, 4, 2, 1, 5, 7, 8, 4, 4, 1, 5, 7, 7, 8, 1, ...</td>\n",
       "      <td>10000</td>\n",
       "      <td>ReLU</td>\n",
       "      <td>35.014159</td>\n",
       "      <td>1.0</td>\n",
       "      <td>0.0</td>\n",
       "      <td>NaN</td>\n",
       "      <td>plaintext</td>\n",
       "    </tr>\n",
       "    <tr>\n",
       "      <th>1</th>\n",
       "      <td>0.5576</td>\n",
       "      <td>434.175892</td>\n",
       "      <td>2021-10-12 12:59:45.888788</td>\n",
       "      <td>[4, 4, 4, 1, 7, 7, 8, 3, 4, 1, 7, 7, 7, 8, 1, ...</td>\n",
       "      <td>[4, 4, 2, 1, 5, 7, 8, 4, 4, 1, 5, 7, 7, 8, 1, ...</td>\n",
       "      <td>10000</td>\n",
       "      <td>ReLU</td>\n",
       "      <td>34.966154</td>\n",
       "      <td>1.0</td>\n",
       "      <td>0.0</td>\n",
       "      <td>NaN</td>\n",
       "      <td>plaintext</td>\n",
       "    </tr>\n",
       "    <tr>\n",
       "      <th>2</th>\n",
       "      <td>0.2318</td>\n",
       "      <td>434.045423</td>\n",
       "      <td>2021-10-12 13:08:06.098759</td>\n",
       "      <td>[1, 5, 5, 1, 5, 7, 5, 5, 1, 1, 5, 5, 7, 5, 1, ...</td>\n",
       "      <td>[4, 4, 2, 1, 5, 7, 8, 4, 4, 1, 5, 7, 7, 8, 1, ...</td>\n",
       "      <td>10000</td>\n",
       "      <td>ReLU</td>\n",
       "      <td>34.940857</td>\n",
       "      <td>1.0</td>\n",
       "      <td>0.0</td>\n",
       "      <td>NaN</td>\n",
       "      <td>plaintext</td>\n",
       "    </tr>\n",
       "    <tr>\n",
       "      <th>3</th>\n",
       "      <td>0.6552</td>\n",
       "      <td>440.584696</td>\n",
       "      <td>2021-10-12 13:28:06.498966</td>\n",
       "      <td>[4, 4, 2, 1, 7, 9, 8, 1, 4, 1, 7, 7, 7, 8, 1, ...</td>\n",
       "      <td>[4, 4, 2, 1, 5, 7, 8, 4, 4, 1, 5, 7, 7, 8, 1, ...</td>\n",
       "      <td>10000</td>\n",
       "      <td>ReLU</td>\n",
       "      <td>34.895064</td>\n",
       "      <td>1.0</td>\n",
       "      <td>0.0</td>\n",
       "      <td>NaN</td>\n",
       "      <td>plaintext</td>\n",
       "    </tr>\n",
       "    <tr>\n",
       "      <th>4</th>\n",
       "      <td>0.2605</td>\n",
       "      <td>435.607623</td>\n",
       "      <td>2021-10-12 13:37:04.358536</td>\n",
       "      <td>[1, 1, 5, 1, 7, 7, 0, 1, 2, 1, 7, 5, 7, 5, 1, ...</td>\n",
       "      <td>[4, 4, 2, 1, 5, 7, 8, 4, 4, 1, 5, 7, 7, 8, 1, ...</td>\n",
       "      <td>10000</td>\n",
       "      <td>ReLU</td>\n",
       "      <td>34.508964</td>\n",
       "      <td>1.0</td>\n",
       "      <td>0.0</td>\n",
       "      <td>NaN</td>\n",
       "      <td>plaintext</td>\n",
       "    </tr>\n",
       "    <tr>\n",
       "      <th>...</th>\n",
       "      <td>...</td>\n",
       "      <td>...</td>\n",
       "      <td>...</td>\n",
       "      <td>...</td>\n",
       "      <td>...</td>\n",
       "      <td>...</td>\n",
       "      <td>...</td>\n",
       "      <td>...</td>\n",
       "      <td>...</td>\n",
       "      <td>...</td>\n",
       "      <td>...</td>\n",
       "      <td>...</td>\n",
       "    </tr>\n",
       "    <tr>\n",
       "      <th>62</th>\n",
       "      <td>0.6261</td>\n",
       "      <td>919.977976</td>\n",
       "      <td>2022-07-03 17:52:24.954812</td>\n",
       "      <td>[4, 4, 4, 1, 7, 5, 8, 4, 4, 1, 5, 7, 5, 8, 1, ...</td>\n",
       "      <td>[0, 1, 2, 2, 3, 2, 8, 6, 5, 0, 3, 4, 4, 6, 8, ...</td>\n",
       "      <td>10000</td>\n",
       "      <td>Sigmoid</td>\n",
       "      <td>75.412392</td>\n",
       "      <td>1.0</td>\n",
       "      <td>0.0</td>\n",
       "      <td>zi9TBx</td>\n",
       "      <td>plaintext</td>\n",
       "    </tr>\n",
       "    <tr>\n",
       "      <th>63</th>\n",
       "      <td>0.6362</td>\n",
       "      <td>940.418993</td>\n",
       "      <td>2022-07-03 23:29:37.320797</td>\n",
       "      <td>[2, 4, 2, 3, 7, 9, 8, 4, 2, 3, 7, 7, 9, 2, 3, ...</td>\n",
       "      <td>[0, 1, 2, 2, 3, 2, 8, 6, 5, 0, 3, 4, 4, 6, 8, ...</td>\n",
       "      <td>10000</td>\n",
       "      <td>Sigmoid</td>\n",
       "      <td>74.788434</td>\n",
       "      <td>1.0</td>\n",
       "      <td>0.0</td>\n",
       "      <td>xVsp6w</td>\n",
       "      <td>plaintext</td>\n",
       "    </tr>\n",
       "    <tr>\n",
       "      <th>64</th>\n",
       "      <td>0.6144</td>\n",
       "      <td>944.458827</td>\n",
       "      <td>2022-07-03 23:53:35.181248</td>\n",
       "      <td>[4, 4, 6, 1, 5, 7, 8, 4, 4, 1, 7, 7, 7, 8, 1, ...</td>\n",
       "      <td>[0, 1, 2, 2, 3, 2, 8, 6, 5, 0, 3, 4, 4, 6, 8, ...</td>\n",
       "      <td>10000</td>\n",
       "      <td>Sigmoid</td>\n",
       "      <td>81.623405</td>\n",
       "      <td>1.0</td>\n",
       "      <td>0.0</td>\n",
       "      <td>VUg5Jg</td>\n",
       "      <td>plaintext</td>\n",
       "    </tr>\n",
       "    <tr>\n",
       "      <th>65</th>\n",
       "      <td>0.6434</td>\n",
       "      <td>951.831432</td>\n",
       "      <td>2022-07-04 00:17:16.822525</td>\n",
       "      <td>[4, 4, 6, 1, 7, 5, 8, 4, 4, 1, 5, 7, 5, 8, 1, ...</td>\n",
       "      <td>[0, 1, 2, 2, 3, 2, 8, 6, 5, 0, 3, 4, 4, 6, 8, ...</td>\n",
       "      <td>10000</td>\n",
       "      <td>Sigmoid</td>\n",
       "      <td>76.656483</td>\n",
       "      <td>1.0</td>\n",
       "      <td>0.0</td>\n",
       "      <td>y9h5XJ</td>\n",
       "      <td>plaintext</td>\n",
       "    </tr>\n",
       "    <tr>\n",
       "      <th>66</th>\n",
       "      <td>0.6592</td>\n",
       "      <td>924.548244</td>\n",
       "      <td>2022-07-04 11:14:18.006047</td>\n",
       "      <td>[4, 4, 2, 1, 7, 5, 8, 4, 4, 1, 5, 7, 5, 8, 1, ...</td>\n",
       "      <td>[0, 1, 2, 2, 3, 2, 8, 6, 5, 0, 3, 4, 4, 6, 8, ...</td>\n",
       "      <td>10000</td>\n",
       "      <td>Sigmoid</td>\n",
       "      <td>71.150496</td>\n",
       "      <td>1.0</td>\n",
       "      <td>0.0</td>\n",
       "      <td>kWCQ9q</td>\n",
       "      <td>plaintext</td>\n",
       "    </tr>\n",
       "  </tbody>\n",
       "</table>\n",
       "<p>67 rows × 12 columns</p>\n",
       "</div>"
      ],
      "text/plain": [
       "    accuracy  training_time                    datetime  \\\n",
       "0     0.6511     437.602509  2021-10-12 10:48:08.505291   \n",
       "1     0.5576     434.175892  2021-10-12 12:59:45.888788   \n",
       "2     0.2318     434.045423  2021-10-12 13:08:06.098759   \n",
       "3     0.6552     440.584696  2021-10-12 13:28:06.498966   \n",
       "4     0.2605     435.607623  2021-10-12 13:37:04.358536   \n",
       "..       ...            ...                         ...   \n",
       "62    0.6261     919.977976  2022-07-03 17:52:24.954812   \n",
       "63    0.6362     940.418993  2022-07-03 23:29:37.320797   \n",
       "64    0.6144     944.458827  2022-07-03 23:53:35.181248   \n",
       "65    0.6434     951.831432  2022-07-04 00:17:16.822525   \n",
       "66    0.6592     924.548244  2022-07-04 11:14:18.006047   \n",
       "\n",
       "                                         y_hat_sample  \\\n",
       "0   [4, 4, 2, 1, 7, 7, 8, 4, 4, 1, 7, 7, 7, 8, 1, ...   \n",
       "1   [4, 4, 4, 1, 7, 7, 8, 3, 4, 1, 7, 7, 7, 8, 1, ...   \n",
       "2   [1, 5, 5, 1, 5, 7, 5, 5, 1, 1, 5, 5, 7, 5, 1, ...   \n",
       "3   [4, 4, 2, 1, 7, 9, 8, 1, 4, 1, 7, 7, 7, 8, 1, ...   \n",
       "4   [1, 1, 5, 1, 7, 7, 0, 1, 2, 1, 7, 5, 7, 5, 1, ...   \n",
       "..                                                ...   \n",
       "62  [4, 4, 4, 1, 7, 5, 8, 4, 4, 1, 5, 7, 5, 8, 1, ...   \n",
       "63  [2, 4, 2, 3, 7, 9, 8, 4, 2, 3, 7, 7, 9, 2, 3, ...   \n",
       "64  [4, 4, 6, 1, 5, 7, 8, 4, 4, 1, 7, 7, 7, 8, 1, ...   \n",
       "65  [4, 4, 6, 1, 7, 5, 8, 4, 4, 1, 5, 7, 5, 8, 1, ...   \n",
       "66  [4, 4, 2, 1, 7, 5, 8, 4, 4, 1, 5, 7, 5, 8, 1, ...   \n",
       "\n",
       "                                             y_sample  inference_size  \\\n",
       "0   [4, 4, 2, 1, 5, 7, 8, 4, 4, 1, 5, 7, 7, 8, 1, ...           10000   \n",
       "1   [4, 4, 2, 1, 5, 7, 8, 4, 4, 1, 5, 7, 7, 8, 1, ...           10000   \n",
       "2   [4, 4, 2, 1, 5, 7, 8, 4, 4, 1, 5, 7, 7, 8, 1, ...           10000   \n",
       "3   [4, 4, 2, 1, 5, 7, 8, 4, 4, 1, 5, 7, 7, 8, 1, ...           10000   \n",
       "4   [4, 4, 2, 1, 5, 7, 8, 4, 4, 1, 5, 7, 7, 8, 1, ...           10000   \n",
       "..                                                ...             ...   \n",
       "62  [0, 1, 2, 2, 3, 2, 8, 6, 5, 0, 3, 4, 4, 6, 8, ...           10000   \n",
       "63  [0, 1, 2, 2, 3, 2, 8, 6, 5, 0, 3, 4, 4, 6, 8, ...           10000   \n",
       "64  [0, 1, 2, 2, 3, 2, 8, 6, 5, 0, 3, 4, 4, 6, 8, ...           10000   \n",
       "65  [0, 1, 2, 2, 3, 2, 8, 6, 5, 0, 3, 4, 4, 6, 8, ...           10000   \n",
       "66  [0, 1, 2, 2, 3, 2, 8, 6, 5, 0, 3, 4, 4, 6, 8, ...           10000   \n",
       "\n",
       "   activation  time_taken  is_plaintext  is_cyphertext session      dtype  \n",
       "0        ReLU   35.014159           1.0            0.0     NaN  plaintext  \n",
       "1        ReLU   34.966154           1.0            0.0     NaN  plaintext  \n",
       "2        ReLU   34.940857           1.0            0.0     NaN  plaintext  \n",
       "3        ReLU   34.895064           1.0            0.0     NaN  plaintext  \n",
       "4        ReLU   34.508964           1.0            0.0     NaN  plaintext  \n",
       "..        ...         ...           ...            ...     ...        ...  \n",
       "62    Sigmoid   75.412392           1.0            0.0  zi9TBx  plaintext  \n",
       "63    Sigmoid   74.788434           1.0            0.0  xVsp6w  plaintext  \n",
       "64    Sigmoid   81.623405           1.0            0.0  VUg5Jg  plaintext  \n",
       "65    Sigmoid   76.656483           1.0            0.0  y9h5XJ  plaintext  \n",
       "66    Sigmoid   71.150496           1.0            0.0  kWCQ9q  plaintext  \n",
       "\n",
       "[67 rows x 12 columns]"
      ]
     },
     "execution_count": 4,
     "metadata": {},
     "output_type": "execute_result"
    }
   ],
   "source": [
    "fill_dict = {\"activation\": \"ReLU\", \"is_plaintext\": 1.0, \"is_cyphertext\": 0, }\n",
    "all_results = all_results.fillna(value=fill_dict)\n",
    "try:\n",
    "    all_results[\"time_taken\"].fillna(all_results[\"plain_inference_time\"], inplace=True) # move values from old column to new\n",
    "    del all_results[\"plain_inference_time\"]\n",
    "except KeyError:\n",
    "    pass # ok not dealing with an old version\n",
    "all_results.loc[all_results[\"is_plaintext\"] == 1, \"dtype\"] = \"plaintext\"\n",
    "all_results = all_results.fillna(value={\"dtype\": \"cyphertext\"})\n",
    "all_results"
   ]
  },
  {
   "cell_type": "markdown",
   "id": "96494bf1-2aff-4082-a209-6d0d8c89e85c",
   "metadata": {},
   "source": [
    "## Plot the performance of the neural networks by activation function"
   ]
  },
  {
   "cell_type": "code",
   "execution_count": 5,
   "id": "4b771f5b-22f0-4e38-b9f0-1797d9b51305",
   "metadata": {},
   "outputs": [
    {
     "data": {
      "image/png": "[encoded data removed]",
      "text/plain": [
       "<Figure size 432x288 with 1 Axes>"
      ]
     },
     "metadata": {},
     "output_type": "display_data"
    }
   ],
   "source": [
    "ax = sns.boxplot(y=\"accuracy\", x=\"activation\", data=all_results)\n",
    "ax = sns.swarmplot(y=\"accuracy\", x=\"activation\", data=all_results, color=\".25\")\n",
    "ax.set(title=\"Model Accuracy by Activation\")\n",
    "fig = ax.get_figure()\n",
    "fig.savefig(\"sphira-fashion-mnist-performance.png\") "
   ]
  },
  {
   "cell_type": "markdown",
   "id": "c0939a87-b8e0-4ef5-9695-b102b22744e6",
   "metadata": {},
   "source": [
    "## Plot the time taken by plaintexts and cyphertexts"
   ]
  },
  {
   "cell_type": "code",
   "execution_count": 6,
   "id": "67f8a67a-348f-4a50-bfc4-5eef70b744a3",
   "metadata": {},
   "outputs": [
    {
     "data": {
      "image/png": "[encoded data removed]",
      "text/plain": [
       "<Figure size 432x288 with 1 Axes>"
      ]
     },
     "metadata": {},
     "output_type": "display_data"
    }
   ],
   "source": [
    "ax = sns.boxplot(y=\"time_taken\", x=\"dtype\", data=all_results)\n",
    "ax = sns.swarmplot(y=\"time_taken\", x=\"dtype\", data=all_results, color=\".25\", size=2)\n",
    "ax.set(title=\"Time Taken by Data Type\", ylabel=\"Inference Time (s)\", xlabel=\"Data Type\")\n",
    "fig = ax.get_figure()\n",
    "fig.savefig(\"sphira-fashion-mnist-inference-time.png\") "
   ]
  },
  {
   "cell_type": "markdown",
   "id": "fa8c2f4a-b990-4909-999a-be6545483087",
   "metadata": {
    "tags": []
   },
   "source": [
    "Download Fashion-MNIST\n",
    "----------------------\n",
    "\n",
    "- Get Fashion-MNIST as a zipped up set of CSVs\n",
    "- Unizp Fashion-MNIST"
   ]
  },
  {
   "cell_type": "code",
   "execution_count": 7,
   "id": "74f0a8e2-6f34-45d8-935d-d4d1a23a0b29",
   "metadata": {},
   "outputs": [
    {
     "name": "stdout",
     "output_type": "stream",
     "text": [
      "/Users/devharsh/Downloads/python-fhez/examples\n"
     ]
    }
   ],
   "source": [
    "cwd = os.getcwd() # current working directory\n",
    "print(cwd)"
   ]
  },
  {
   "cell_type": "code",
   "execution_count": 8,
   "id": "f9e21c5e-b896-48d1-9808-8c9c0f999581",
   "metadata": {},
   "outputs": [
    {
     "name": "stdout",
     "output_type": "stream",
     "text": [
      "/Users/devharsh/Downloads/python-fhez/examples/datasets\n"
     ]
    }
   ],
   "source": [
    "data_dir = os.path.join(cwd, \"datasets\")\n",
    "if os.path.exists(data_dir):\n",
    "    pass\n",
    "else:\n",
    "    os.mkdir(data_dir)\n",
    "print(data_dir)"
   ]
  },
  {
   "cell_type": "code",
   "execution_count": 9,
   "id": "103176f2-a7c4-463e-8403-354db1316d82",
   "metadata": {},
   "outputs": [
    {
     "name": "stdout",
     "output_type": "stream",
     "text": [
      "Skipping mnist download\n"
     ]
    }
   ],
   "source": [
    "mnist_zip = os.path.join(data_dir, \"mnist.zip\")\n",
    "if os.path.exists(mnist_zip):\n",
    "    print(\"Skipping mnist download\")\n",
    "else:\n",
    "    print(\"Downloading Fashion-MNIST\")\n",
    "    mnist_url = \"http://nextcloud.deepcypher.me/s/wjLa6YFw8Bcbra9/download\"\n",
    "    r = requests.get(mnist_url, allow_redirects=True, verify=False)\n",
    "    with open(mnist_zip, \"wb\") as f:\n",
    "        f.write(r.content)"
   ]
  },
  {
   "cell_type": "code",
   "execution_count": 10,
   "id": "df4d5a3a-bc16-4f87-b3c7-65524a8a59a6",
   "metadata": {},
   "outputs": [],
   "source": [
    "unzip_dir = os.path.join(data_dir, \"mnist\")\n",
    "if os.path.exists(unzip_dir):\n",
    "    pass\n",
    "else:\n",
    "    os.mkdir(unzip_dir)\n",
    "with zipfile.ZipFile(mnist_zip, \"r\") as zip_ref:\n",
    "    zip_ref.extractall(unzip_dir)"
   ]
  },
  {
   "cell_type": "markdown",
   "id": "7d4abd62-426a-4abf-a205-9c5cf1a696ff",
   "metadata": {},
   "source": [
    "\"Wrangle\"/ prepare Fashion-MNIST\n",
    "--------------------------------\n",
    "\n",
    "- Read in the Fashion-MNIST CSVs\n",
    "- Split training and testing features (x) from target (y)\n",
    "- Normalise x and y (in the range 0-1 to prevent infinite numbers when using our approximations)"
   ]
  },
  {
   "cell_type": "code",
   "execution_count": 11,
   "id": "63d89550-ef22-4ee0-a041-7e23382f7542",
   "metadata": {},
   "outputs": [],
   "source": [
    "import pandas as pd\n",
    "import numpy as np\n",
    "import tqdm"
   ]
  },
  {
   "cell_type": "code",
   "execution_count": 12,
   "id": "1339b61a-a11c-4123-90ea-47a336535cc5",
   "metadata": {},
   "outputs": [],
   "source": [
    "train_file = os.path.join(unzip_dir, \"fashion-mnist_train.csv\") \n",
    "test_file = os.path.join(unzip_dir, \"fashion-mnist_test.csv\")\n",
    "train = pd.read_csv(train_file)\n",
    "test = pd.read_csv(test_file)\n",
    "# train"
   ]
  },
  {
   "cell_type": "code",
   "execution_count": 13,
   "id": "d48e0390-8ae5-48ad-9fa6-f1aac6c40d46",
   "metadata": {},
   "outputs": [
    {
     "name": "stdout",
     "output_type": "stream",
     "text": [
      "(60000, 784)\n",
      "(60000,)\n"
     ]
    }
   ],
   "source": [
    "train_y = train.iloc[:, 0]\n",
    "train_x = train.iloc[:, 1:]/255 # normalise to 0-1 preventing explosion\n",
    "test_x = test.iloc[:, 1:]/255 # normalise to 0-1 preventing explosion\n",
    "test_y = test.iloc[:, 0]\n",
    "train_x = train_x.to_numpy()\n",
    "train_y = train_y.to_numpy()\n",
    "test_x = test_x.to_numpy()\n",
    "test_y = test_y.to_numpy()\n",
    "print(train_x.shape)\n",
    "print(train_y.shape)"
   ]
  },
  {
   "cell_type": "code",
   "execution_count": 14,
   "id": "9d1efcad-b224-4552-ae64-d0d0d75d4470",
   "metadata": {},
   "outputs": [],
   "source": [
    "# train_x[0]"
   ]
  },
  {
   "cell_type": "code",
   "execution_count": 15,
   "id": "ee411b28-1845-4f98-9d12-5a59918d71fd",
   "metadata": {},
   "outputs": [
    {
     "data": {
      "text/plain": [
       "(784,)"
      ]
     },
     "execution_count": 15,
     "metadata": {},
     "output_type": "execute_result"
    }
   ],
   "source": [
    "train_x[0].shape"
   ]
  },
  {
   "cell_type": "markdown",
   "id": "f7881169-0cf8-4379-968a-ee3eece51ca4",
   "metadata": {},
   "source": [
    "Define Neural Network\n",
    "---------------------\n",
    "\n",
    "- Use [Networkx](https://networkx.org/) to construct a **multi-directed-graph** as a neural network\n",
    "- Nodes for this graph are abstractions of neural network components with forward, backward (backpropogation), update (weight update/ optimisation), and costs (computational depth of traversal to the node)\n",
    "- We use Nodes that inherit from the abstract base class [fhez.nn.graph.node.Node](https://python-fhez.readthedocs.io/en/latest/nodes/node.html#node) so if you need to define your own type of node inherit from this to match the API the network traverser expects"
   ]
  },
  {
   "cell_type": "code",
   "execution_count": 16,
   "id": "6051a6b2-6348-42b3-99a4-e4fcba385044",
   "metadata": {},
   "outputs": [
    {
     "name": "stdout",
     "output_type": "stream",
     "text": [
      "MultiDiGraph with 108 nodes and 151 edges\n"
     ]
    }
   ],
   "source": [
    "import networkx as nx\n",
    "from fhez.nn.graph.prefab import sphira\n",
    "from fhez.nn.activation.sigmoid import Sigmoid\n",
    "graph = sphira()\n",
    "print(graph) # you can modify this graph like any other networkx graph using our existing/ ready made nodes like adding a new CNN layer for instance"
   ]
  },
  {
   "cell_type": "code",
   "execution_count": 17,
   "id": "b091e20c-b707-4eaf-a032-1a46d4b872e3",
   "metadata": {},
   "outputs": [
    {
     "name": "stdout",
     "output_type": "stream",
     "text": [
      "{'group': 1, 'node': <fhez.nn.activation.sigmoid.Sigmoid object at 0x12b6b2ee0>}\n",
      "{'group': 2, 'node': <fhez.nn.activation.sigmoid.Sigmoid object at 0x12b6949d0>}\n",
      "{'group': 2, 'node': <fhez.nn.activation.sigmoid.Sigmoid object at 0x12b6b2fd0>}\n",
      "{'group': 2, 'node': <fhez.nn.activation.sigmoid.Sigmoid object at 0x12b6b2ca0>}\n",
      "{'group': 2, 'node': <fhez.nn.activation.sigmoid.Sigmoid object at 0x12b683c10>}\n",
      "{'group': 2, 'node': <fhez.nn.activation.sigmoid.Sigmoid object at 0x12b6836d0>}\n",
      "{'group': 2, 'node': <fhez.nn.activation.sigmoid.Sigmoid object at 0x12b683a30>}\n",
      "{'group': 2, 'node': <fhez.nn.activation.sigmoid.Sigmoid object at 0x12b683ac0>}\n",
      "{'group': 2, 'node': <fhez.nn.activation.sigmoid.Sigmoid object at 0x12b683790>}\n",
      "{'group': 2, 'node': <fhez.nn.activation.sigmoid.Sigmoid object at 0x12b6834c0>}\n",
      "{'group': 2, 'node': <fhez.nn.activation.sigmoid.Sigmoid object at 0x12b6c3040>}\n"
     ]
    }
   ],
   "source": [
    "# # optionally modify the graph\n",
    "# # here we replace RELU with sigmoid activation for comparison only, ReLU is almost certainly better\n",
    "from fhez.nn.activation.sigmoid import Sigmoid\n",
    "graph.nodes(data=True)[\"CNN-RELU\"][\"node\"] = Sigmoid()\n",
    "print(graph.nodes(data=True)[\"CNN-RELU\"])\n",
    "for i in range(10):\n",
    "    graph.nodes(data=True)[\"Dense-RELU-{}\".format(i)][\"node\"] = Sigmoid()\n",
    "    print(graph.nodes(data=True)[\"Dense-RELU-{}\".format(i)])\n"
   ]
  },
  {
   "cell_type": "markdown",
   "id": "08d1b41d-17fc-4012-bbe7-ea46662a755f",
   "metadata": {},
   "source": [
    "Visualise the graph\n",
    "-------------------"
   ]
  },
  {
   "cell_type": "code",
   "execution_count": 18,
   "id": "9bd81dbb-146d-404e-9b0c-225c8d14d4f7",
   "metadata": {},
   "outputs": [
    {
     "name": "stdout",
     "output_type": "stream",
     "text": [
      "MultiDiGraph with 108 nodes and 151 edges\n"
     ]
    }
   ],
   "source": [
    "import copy\n",
    "def strip(graph):\n",
    "    g = copy.deepcopy(graph)\n",
    "    for node in g.nodes(data=True):\n",
    "        try:\n",
    "            # node[1][\"title\"] = \"{}:\\n{}\".format(type(node[1][\"node\"]), repr(node[1][\"node\"]))\n",
    "            del node[1][\"node\"]\n",
    "        except KeyError:\n",
    "            pass\n",
    "    return g\n",
    "    \n",
    "print(graph)"
   ]
  },
  {
   "cell_type": "code",
   "execution_count": 19,
   "id": "1975a72e-7dd0-4ec6-a982-4cadc40728d2",
   "metadata": {
    "tags": []
   },
   "outputs": [
    {
     "name": "stdout",
     "output_type": "stream",
     "text": [
      "MultiDiGraph with 108 nodes and 151 edges\n"
     ]
    },
    {
     "data": {
      "text/html": [
       "\n",
       "        <iframe\n",
       "            width=\"700px\"\n",
       "            height=\"700px\"\n",
       "            src=\"graph.html\"\n",
       "            frameborder=\"0\"\n",
       "            allowfullscreen\n",
       "            \n",
       "        ></iframe>\n",
       "        "
      ],
      "text/plain": [
       "<IPython.lib.display.IFrame at 0x12bc97c40>"
      ]
     },
     "execution_count": 19,
     "metadata": {},
     "output_type": "execute_result"
    }
   ],
   "source": [
    "from pyvis.network import Network\n",
    "stripped = strip(graph)\n",
    "print(stripped)\n",
    "\n",
    "from pyvis.network import Network\n",
    "net = Network('700px', '700px', bgcolor='#222222', font_color='white', notebook=True)\n",
    "net.from_nx(stripped)\n",
    "# net.show_buttons(filter_=\"physics\")\n",
    "net.show(\"graph.html\")"
   ]
  },
  {
   "cell_type": "markdown",
   "id": "3a89daf0-2be7-4f85-823e-25635a430045",
   "metadata": {},
   "source": [
    "Train Using Plaintext Data\n",
    "--------------------------\n",
    "\n",
    "- Instantiate our neural networks\n",
    "- Compute the forward pass of our neural networks\n",
    "- Compute the backward pass of our neural networks\n",
    "\n",
    "I would like to stress that FHE is not a panacea.\n",
    "You may be wondering, why dont we train the neural network using cyphertexts? The simple answer is, *where/ when do we stop?*\n",
    "This statement refers to two *stops* in particular, when do we stop the training when we cannot see the loss, and where does the cyphertext *stop* for instance do we carry the cyphertext all the way through which means our neural network weights are encrypted.\n",
    "The solution to the first *stop* is both simple but expensive, the answer is we compute the training-test divergence on the client side where the keys exist so that we can find the optimal *training stop* point but this requires us to have a continued connection to the client.\n",
    "There are many answers to when we might figurativeley stop the cyphertext, but if privacy is of pivital concern then the only real answer is never, since any plaintext weights could be used in theorey to reconstruct the data that was used to train it, which means if we do the forward pass in cyphertext but do the backward pass in plaintext we dont gain any privacy since the data is then known to the data processor. However if we stick to cyphertexts throught all the way upto and including the weight update that means naturally when the weights are updated by the gradients which themselves come from the inputs thus all cyphertexts, that the weights after the first iteration of the network will become encrypted, taking *significantly* (orders of magnitude) longer to calculate since cyphertext + cyphertext operations take much longer even than cyphertext + plaintext calculations. This is not to mention the lack of compatibility of loss functions with FHE since many require some form of division which must be approximated.\n",
    "\n",
    "Thus we think the optimal solution is actually transfer learning. Where you train on a similar dataset and try to transfer the understanding to a similar problem, but infer using cyphertexts only. That way privacy is maintained since the plaintext weights are untouched by the clients data, and we can still create encrypted inference albeit with lower accuracy, but not incurring the cyphertext-cyphertext cost of encrypted weights."
   ]
  },
  {
   "cell_type": "code",
   "execution_count": 20,
   "id": "5f3b2abc-0d26-4264-b433-5541bdd7fe79",
   "metadata": {},
   "outputs": [],
   "source": [
    "from fhez.nn.graph.utils import train, infer\n",
    "from fhez.nn.loss.cce import CCE"
   ]
  },
  {
   "cell_type": "code",
   "execution_count": 21,
   "id": "7cce10b9-0882-4218-a92a-196b3d0a206a",
   "metadata": {},
   "outputs": [],
   "source": [
    "# cnn = Layer_CNN(weights=( 1, 6, 6 ), stride=[ 1, 4, 4 ], bias=0)\n",
    "# dense = None\n",
    "# for cyphertext in row_encrypted_generator(data=train_x, shape=( 1, 28, 28 )):\n",
    "#     cnn_acti = cnn.forward(cyphertext)\n",
    "#     if dense is None:\n",
    "#         dense = Layer_ANN(weights=(len(cnn_acti),), bias=0)\n",
    "#     dense.forward(cnn_acti)"
   ]
  },
  {
   "cell_type": "code",
   "execution_count": 22,
   "id": "593fc831-c4b6-462e-8a91-13cf9ce41c5b",
   "metadata": {},
   "outputs": [],
   "source": [
    "train_dict = {\n",
    "        \"x\": [],\n",
    "        \"y\": [],\n",
    "    }\n",
    "\n",
    "for i in zip(train_x, train_y):\n",
    "    train_dict[\"x\"].append(np.reshape(i[0], (28,28)))\n",
    "    train_dict[\"y\"].append(i[1])\n",
    "    \n",
    "# # for i in train_x:\n",
    "# #     train_dict[\"x\"].append(np.reshape(i, (28, 28)))\n",
    "    \n",
    "# print(train_y, type(train_y), train_y.shape)\n",
    "# print(train_x, type(train_x), train_x.shape)"
   ]
  },
  {
   "cell_type": "code",
   "execution_count": 23,
   "id": "d0738287-8887-45a7-a407-31ec569e87df",
   "metadata": {},
   "outputs": [
    {
     "name": "stderr",
     "output_type": "stream",
     "text": [
      "Learn: 100%|████████████████████████████████████| 60000/60000 [14:45<00:00, 67.73it/s]\n"
     ]
    }
   ],
   "source": [
    "tt = time.time()\n",
    "output = train(graph=graph, inputs=train_dict, batch_size=5, debug=False)\n",
    "tt = time.time() - tt"
   ]
  },
  {
   "cell_type": "code",
   "execution_count": 24,
   "id": "eb547132-0ef1-4106-b25b-657a540cf25e",
   "metadata": {},
   "outputs": [],
   "source": [
    "trained_graph = copy.deepcopy(graph)"
   ]
  },
  {
   "cell_type": "markdown",
   "id": "f04eeb2d-c59f-4147-85bb-16b3f72f52a1",
   "metadata": {},
   "source": [
    "now that a graph has been trained let us mark it with a unique session reference just so when we save it in the CSV it is easier to find"
   ]
  },
  {
   "cell_type": "code",
   "execution_count": 25,
   "id": "8b8e87c6-ed9d-4146-9a60-89184e02483d",
   "metadata": {},
   "outputs": [
    {
     "data": {
      "text/plain": [
       "'lMIfP5'"
      ]
     },
     "execution_count": 25,
     "metadata": {},
     "output_type": "execute_result"
    }
   ],
   "source": [
    "import random, string\n",
    "session = ''.join(random.choice(string.ascii_uppercase + string.ascii_lowercase + string.digits) for _ in range(6))\n",
    "session"
   ]
  },
  {
   "cell_type": "code",
   "execution_count": 26,
   "id": "d8b1f1e9-2973-4fce-a50b-147daec01bf1",
   "metadata": {},
   "outputs": [
    {
     "data": {
      "text/plain": [
       "{'y_hat': 7, 'Loss-CCE': 1.676673296675122}"
      ]
     },
     "execution_count": 26,
     "metadata": {},
     "output_type": "execute_result"
    }
   ],
   "source": [
    "output"
   ]
  },
  {
   "cell_type": "markdown",
   "id": "ee9beec1-5912-4ec3-9de1-504f0b9a8df9",
   "metadata": {},
   "source": [
    "Plaintext Inference\n",
    "-------------------\n",
    "\n",
    "- Find accuracy against testing set in plaintext space for comparison"
   ]
  },
  {
   "cell_type": "code",
   "execution_count": 27,
   "id": "ecedd124-bced-4836-bdab-81facc5d604a",
   "metadata": {},
   "outputs": [
    {
     "name": "stderr",
     "output_type": "stream",
     "text": [
      "Infer: 100%|███████████████████████████████████| 10000/10000 [01:11<00:00, 139.79it/s]\n"
     ]
    }
   ],
   "source": [
    "test_dict = {\n",
    "        \"x\": [],\n",
    "        \"y\": [],\n",
    "    }\n",
    "for i in zip(test_x, test_y):\n",
    "    test_dict[\"x\"].append(np.reshape(i[0], (28,28)))\n",
    "    test_dict[\"y\"].append(i[1])\n",
    "    \n",
    "pi = time.time()\n",
    "y_hats = infer(graph=graph, inputs={key:value for key,value in test_dict.items() if key in [\"x\"]})[\"y_hat\"] \n",
    "pi = time.time() - pi"
   ]
  },
  {
   "cell_type": "code",
   "execution_count": 28,
   "id": "a15f6577-df35-49fa-896f-7b2f1199b0c7",
   "metadata": {},
   "outputs": [
    {
     "data": {
      "text/plain": [
       "[4, 4, 6, 1, 7, 5, 8, 4, 4, 1, 5, 7, 5, 8, 1, 6, 9, 6, 3, 3]"
      ]
     },
     "execution_count": 28,
     "metadata": {},
     "output_type": "execute_result"
    }
   ],
   "source": [
    "sample=y_hats[20:40]\n",
    "sample"
   ]
  },
  {
   "cell_type": "code",
   "execution_count": 29,
   "id": "50cec962-1192-4905-91b5-9663e16c4295",
   "metadata": {},
   "outputs": [
    {
     "data": {
      "text/plain": [
       "[0, 1, 2, 2, 3, 2, 8, 6, 5, 0, 3, 4, 4, 6, 8, 5, 6, 3, 6, 4]"
      ]
     },
     "execution_count": 29,
     "metadata": {},
     "output_type": "execute_result"
    }
   ],
   "source": [
    "true_sample = test_dict[\"y\"][:20]\n",
    "true_sample"
   ]
  },
  {
   "cell_type": "code",
   "execution_count": 30,
   "id": "9bff23e7-b5da-4af2-b47a-98b07f0f2c0c",
   "metadata": {},
   "outputs": [
    {
     "data": {
      "text/plain": [
       "5991"
      ]
     },
     "execution_count": 30,
     "metadata": {},
     "output_type": "execute_result"
    }
   ],
   "source": [
    "accurates = np.where(np.isclose(y_hats, test_dict[\"y\"]))\n",
    "len(accurates[0])"
   ]
  },
  {
   "cell_type": "code",
   "execution_count": 31,
   "id": "844bc996-4741-45d8-beeb-4357e4be4e8f",
   "metadata": {},
   "outputs": [
    {
     "name": "stdout",
     "output_type": "stream",
     "text": [
      "Accuracy 0.5991\n"
     ]
    }
   ],
   "source": [
    "accuracy = len(accurates[0])/len(test_dict[\"y\"])\n",
    "print(\"Accuracy {}\".format(accuracy))"
   ]
  },
  {
   "cell_type": "code",
   "execution_count": 32,
   "id": "5d74cd47-e200-4371-a9de-854fc032cd3b",
   "metadata": {
    "tags": []
   },
   "outputs": [],
   "source": [
    "current_result = pd.DataFrame({\"accuracy\": [accuracy], \n",
    "                               \"training_time\": [tt], \n",
    "                               \"time_taken\": [pi], \n",
    "                               \"datetime\": [datetime.datetime.now()], \n",
    "                               \"y_hat_sample\": [sample], \n",
    "                               \"y_sample\": [true_sample], \n",
    "                               \"inference_size\": [len(test_dict[\"y\"])],\n",
    "                               \"activation\": [\"Sigmoid\"] if isinstance(graph.nodes(data=True)[\"CNN-RELU\"][\"node\"], Sigmoid) else [\"ReLU\"],\n",
    "                               \"is_plaintext\": [1],\n",
    "                               \"is_cyphertext\": [0],\n",
    "                               \"session\": [session]\n",
    "                              })\n",
    "try:\n",
    "    all_results = pd.read_csv(csv_path, index_col=False)\n",
    "    all_results = pd.concat([all_results, current_result])\n",
    "except FileNotFoundError:\n",
    "    all_results = current_result\n",
    "all_results.to_csv(csv_path, index=False)"
   ]
  },
  {
   "cell_type": "markdown",
   "id": "90a9ec5b-d48d-442b-ae63-6fd60e9db055",
   "metadata": {},
   "source": [
    "Not great, not terrible (3.6 roentgen). Absolute network performance can always be improved by using newer/ better architectures, and more epochs if it has not learnt what it can from the training set. we use a simple 1 CNN layer + 10 Dense layers + softmax into categorical cross entropy, there are much better architectures to use but we are concerned with the encryption here so we dont want to overcomplicate things. This is more of a means to an end of comparison."
   ]
  },
  {
   "cell_type": "markdown",
   "id": "62f59c1c-cbec-4ce3-bf21-87d0ad1e7663",
   "metadata": {},
   "source": [
    "Encrypted Inference\n",
    "-------------------\n",
    "\n",
    "- find accuracy against testing set again but this time in encrypted space"
   ]
  },
  {
   "cell_type": "markdown",
   "id": "6e1c4660-517d-48be-bec4-fe579f0dc385",
   "metadata": {},
   "source": [
    "Parameterise Encoding/ Encryption and Create an Encrypted Generator\n",
    "-------------------------------------------------------------------\n",
    "\n",
    "- Parameterise our neural network graph encryption nodes\n",
    "- Automatically set parameterisation using AtoFHE"
   ]
  },
  {
   "cell_type": "markdown",
   "id": "f70dc7a6-9323-4363-b1e9-4fd92ff59b64",
   "metadata": {},
   "source": [
    "This next cell shows how you would manually define parameters which you would then give to the encryption, decryption, and rotation nodes. However we do not need to do this any more thanks to our new autoHE which automatically parameterises the fully homomorphic nodes of \"concern\"."
   ]
  },
  {
   "cell_type": "code",
   "execution_count": 33,
   "id": "f740fa97-b6a5-49e3-834e-a649b37973df",
   "metadata": {},
   "outputs": [],
   "source": [
    "import seal\n",
    "encryption_parameters = {\n",
    "            \"scheme\": seal.scheme_type.ckks,\n",
    "            \"poly_modulus_degree\": 8192*2,\n",
    "            \"coefficient_modulus\":\n",
    "                [45, 30, 30, 30, 30, 30, 30, 30, 30, 30, 30, 45],\n",
    "            \"scale\": pow(2.0, 30),\n",
    "            \"cache\": True,\n",
    "}"
   ]
  },
  {
   "cell_type": "code",
   "execution_count": 34,
   "id": "926e1f45-9213-42d0-ac68-c9bc5cf4563e",
   "metadata": {},
   "outputs": [],
   "source": [
    "from fhez.nn.parametrisation.autofhe import autoHE # excuse the mixed spelling of parametrisation instead of parameterisation which we use everywhere else"
   ]
  },
  {
   "cell_type": "code",
   "execution_count": 35,
   "id": "73f5efb5-2e32-4ae1-bb44-cbcfc5d0ccf8",
   "metadata": {},
   "outputs": [
    {
     "data": {
      "text/plain": [
       "({'x': 0},\n",
       " [6],\n",
       " [ReArray({'_seed': ReSeal({'_scheme': <scheme_type.ckks: 2>, '_poly_modulus_degree': 16384, '_coefficient_modulus': [60, 40, 40, 40, 40, 40, 40, 60], '_scale': 1099511627776.0, '_cache': <fhez.recache.ReCache object at 0x12f8e3d00>, '_parameters': <seal.EncryptionParameters object at 0x12f8b69b0>, '_public_key': <seal.PublicKey object at 0x12bc52530>, '_private_key': <seal.SecretKey object at 0x12b735db0>, '_relin_keys': <seal.RelinKeys object at 0x12f8144b0>}), '_origin': {'shape': (1,), 'size': 1}})])"
      ]
     },
     "execution_count": 35,
     "metadata": {},
     "output_type": "execute_result"
    }
   ],
   "source": [
    "encrypted_graph = copy.deepcopy(trained_graph)\n",
    "groups = autoHE(graph=encrypted_graph, nodes=[\"x\"])\n",
    "groups\n",
    "# # Generate Encrypted data peace-meal (as it can get very large)\n",
    "# def row_encrypted_generator(data: np.ndarray, shape: tuple):\n",
    "#     \"\"\"Generate encrypted data of desired shape from rows.\"\"\"\n",
    "#     for row in data:\n",
    "#         row = np.reshape(row, newshape=shape) / 255 # reshape to image shape and normalise between 0-1\n",
    "#         yield ReArray(row, **encryption_parameters)"
   ]
  },
  {
   "cell_type": "markdown",
   "id": "96e4ca1f-4b99-4524-8cfe-2031822757ab",
   "metadata": {},
   "source": [
    ".. caution:\n",
    "\n",
    "    This is where your RAM is gonna get swallowed up like Gazrilla in the black-hole at the centre of our universe!"
   ]
  },
  {
   "cell_type": "code",
   "execution_count": 36,
   "id": "2f75b9f5-3a44-41df-b7a6-423ae1180159",
   "metadata": {
    "tags": []
   },
   "outputs": [],
   "source": [
    "mini_test_dict = {\"x\": test_dict[\"x\"][:10]}"
   ]
  },
  {
   "cell_type": "code",
   "execution_count": null,
   "id": "653474d9-c3a4-4bcc-8e91-8afcc2e01e0b",
   "metadata": {
    "tags": []
   },
   "outputs": [
    {
     "name": "stderr",
     "output_type": "stream",
     "text": [
      "Infer:   0%|                                                   | 0/10 [00:00<?, ?it/s]"
     ]
    }
   ],
   "source": [
    "ei = time.time()\n",
    "y_hats = infer(graph=encrypted_graph, inputs=mini_test_dict)[\"y_hat\"] \n",
    "ei = time.time() - ei"
   ]
  },
  {
   "cell_type": "code",
   "execution_count": null,
   "id": "7171d800-b744-4c9a-996c-bf3c3d0d66c2",
   "metadata": {},
   "outputs": [],
   "source": [
    "accurates = np.where(np.isclose(y_hats, test_dict[\"y\"][:len(y_hats)]))\n",
    "accuracy = len(accurates[0])/len(y_hats)\n",
    "# save info to csv file we used earlier\n",
    "current_result = pd.DataFrame({\"accuracy\": [accuracy], \n",
    "                               \"training_time\": [tt], \n",
    "                               \"time_taken\": [ei], \n",
    "                               \"datetime\": [datetime.datetime.now()], \n",
    "                               \"y_hat_sample\": [y_hats],#[sample], \n",
    "                               \"y_sample\": [test_dict[\"y\"][:len(y_hats)]], \n",
    "                               \"inference_size\": [len(y_hats)],\n",
    "                               \"activation\": [\"Sigmoid\"] if isinstance(graph.nodes(data=True)[\"CNN-RELU\"][\"node\"], Sigmoid) else [\"ReLU\"],\n",
    "                               \"is_plaintext\": [0],\n",
    "                               \"is_cyphertext\": [1],\n",
    "                               \"session\": [session],\n",
    "                              })\n",
    "try:\n",
    "    all_results = pd.read_csv(csv_path, index_col=False)\n",
    "    all_results = all_results.append(current_result)\n",
    "except FileNotFoundError:\n",
    "    all_results = current_result\n",
    "all_results.to_csv(csv_path, index=False)\n",
    "all_results"
   ]
  },
  {
   "cell_type": "markdown",
   "id": "a047a7b2-98d5-4749-8fe3-f8fed1a569ca",
   "metadata": {},
   "source": [
    "There you have it, encrypted deep learning. Its slow, and heavy (as you would expect), but it works! Now in future we can work on reducing the footprint/ optimisation of FHE + its use. Now go run the top boxes again to plot your new results."
   ]
  }
 ],
 "metadata": {
  "kernelspec": {
   "display_name": "Python 3 (ipykernel)",
   "language": "python",
   "name": "python3"
  },
  "language_info": {
   "codemirror_mode": {
    "name": "ipython",
    "version": 3
   },
   "file_extension": ".py",
   "mimetype": "text/x-python",
   "name": "python",
   "nbconvert_exporter": "python",
   "pygments_lexer": "ipython3",
   "version": "3.9.13"
  }
 },
 "nbformat": 4,
 "nbformat_minor": 5
}
